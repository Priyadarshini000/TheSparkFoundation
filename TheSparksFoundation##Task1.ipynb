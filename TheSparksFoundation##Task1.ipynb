{
 "cells": [
  {
   "cell_type": "markdown",
   "id": "62c7a713",
   "metadata": {},
   "source": [
    "# Prediction Using Supervised Machine Learning\n",
    "\n"
   ]
  },
  {
   "cell_type": "markdown",
   "id": "63e14723",
   "metadata": {},
   "source": [
    "# Submitted By:- Priyadarshini PAL\n"
   ]
  },
  {
   "cell_type": "markdown",
   "id": "69c0b797",
   "metadata": {},
   "source": [
    "# Objective:-Predict the percentage of student based on number of study hours using simple Linear regression"
   ]
  },
  {
   "cell_type": "markdown",
   "id": "1abc6a76",
   "metadata": {},
   "source": [
    "# Step 1: To install all the required libraries"
   ]
  },
  {
   "cell_type": "code",
   "execution_count": 1,
   "id": "7a7f6337",
   "metadata": {},
   "outputs": [
    {
     "name": "stdout",
     "output_type": "stream",
     "text": [
      "Requirement already satisfied: sklearn in c:\\python\\python310\\lib\\site-packages (0.0)\n",
      "Requirement already satisfied: scikit-learn in c:\\python\\python310\\lib\\site-packages (from sklearn) (1.0.2)\n",
      "Requirement already satisfied: numpy>=1.14.6 in c:\\python\\python310\\lib\\site-packages (from scikit-learn->sklearn) (1.22.0)\n",
      "Requirement already satisfied: joblib>=0.11 in c:\\python\\python310\\lib\\site-packages (from scikit-learn->sklearn) (1.1.0)\n",
      "Requirement already satisfied: threadpoolctl>=2.0.0 in c:\\python\\python310\\lib\\site-packages (from scikit-learn->sklearn) (3.1.0)\n",
      "Requirement already satisfied: scipy>=1.1.0 in c:\\python\\python310\\lib\\site-packages (from scikit-learn->sklearn) (1.7.3)\n",
      "Note: you may need to restart the kernel to use updated packages.\n"
     ]
    },
    {
     "name": "stderr",
     "output_type": "stream",
     "text": [
      "WARNING: You are using pip version 21.3.1; however, version 22.0.3 is available.\n",
      "You should consider upgrading via the 'C:\\Python\\Python310\\python.exe -m pip install --upgrade pip' command.\n"
     ]
    }
   ],
   "source": [
    "pip install sklearn"
   ]
  },
  {
   "cell_type": "code",
   "execution_count": 2,
   "id": "d2a2d2b4",
   "metadata": {},
   "outputs": [
    {
     "name": "stdout",
     "output_type": "stream",
     "text": [
      "Requirement already satisfied: matplotlib in c:\\python\\python310\\lib\\site-packages (3.5.1)\n",
      "Requirement already satisfied: kiwisolver>=1.0.1 in c:\\python\\python310\\lib\\site-packages (from matplotlib) (1.3.2)\n",
      "Requirement already satisfied: fonttools>=4.22.0 in c:\\python\\python310\\lib\\site-packages (from matplotlib) (4.29.1)\n",
      "Requirement already satisfied: pyparsing>=2.2.1 in c:\\python\\python310\\lib\\site-packages (from matplotlib) (3.0.6)Note: you may need to restart the kernel to use updated packages.\n"
     ]
    },
    {
     "name": "stderr",
     "output_type": "stream",
     "text": [
      "WARNING: You are using pip version 21.3.1; however, version 22.0.3 is available.\n",
      "You should consider upgrading via the 'C:\\Python\\Python310\\python.exe -m pip install --upgrade pip' command.\n"
     ]
    },
    {
     "name": "stdout",
     "output_type": "stream",
     "text": [
      "\n",
      "Requirement already satisfied: packaging>=20.0 in c:\\python\\python310\\lib\\site-packages (from matplotlib) (21.3)\n",
      "Requirement already satisfied: python-dateutil>=2.7 in c:\\python\\python310\\lib\\site-packages (from matplotlib) (2.8.2)\n",
      "Requirement already satisfied: cycler>=0.10 in c:\\python\\python310\\lib\\site-packages (from matplotlib) (0.11.0)\n",
      "Requirement already satisfied: numpy>=1.17 in c:\\python\\python310\\lib\\site-packages (from matplotlib) (1.22.0)\n",
      "Requirement already satisfied: pillow>=6.2.0 in c:\\python\\python310\\lib\\site-packages (from matplotlib) (9.0.1)\n",
      "Requirement already satisfied: six>=1.5 in c:\\python\\python310\\lib\\site-packages (from python-dateutil>=2.7->matplotlib) (1.16.0)\n"
     ]
    }
   ],
   "source": [
    "pip install matplotlib"
   ]
  },
  {
   "cell_type": "code",
   "execution_count": 4,
   "id": "72055108",
   "metadata": {},
   "outputs": [
    {
     "name": "stdout",
     "output_type": "stream",
     "text": [
      "Note: you may need to restart the kernel to use updated packages.\n"
     ]
    },
    {
     "name": "stderr",
     "output_type": "stream",
     "text": [
      "WARNING: Retrying (Retry(total=4, connect=None, read=None, redirect=None, status=None)) after connection broken by 'NewConnectionError('<pip._vendor.urllib3.connection.HTTPSConnection object at 0x0000010D724B3790>: Failed to establish a new connection: [Errno 11001] getaddrinfo failed')': /simple/sqrt/\n",
      "WARNING: Retrying (Retry(total=3, connect=None, read=None, redirect=None, status=None)) after connection broken by 'NewConnectionError('<pip._vendor.urllib3.connection.HTTPSConnection object at 0x0000010D724B39A0>: Failed to establish a new connection: [Errno 11001] getaddrinfo failed')': /simple/sqrt/\n",
      "WARNING: Retrying (Retry(total=2, connect=None, read=None, redirect=None, status=None)) after connection broken by 'NewConnectionError('<pip._vendor.urllib3.connection.HTTPSConnection object at 0x0000010D724B3B50>: Failed to establish a new connection: [Errno 11001] getaddrinfo failed')': /simple/sqrt/\n",
      "WARNING: Retrying (Retry(total=1, connect=None, read=None, redirect=None, status=None)) after connection broken by 'NewConnectionError('<pip._vendor.urllib3.connection.HTTPSConnection object at 0x0000010D724B3D00>: Failed to establish a new connection: [Errno 11001] getaddrinfo failed')': /simple/sqrt/\n",
      "WARNING: Retrying (Retry(total=0, connect=None, read=None, redirect=None, status=None)) after connection broken by 'NewConnectionError('<pip._vendor.urllib3.connection.HTTPSConnection object at 0x0000010D724B3EB0>: Failed to establish a new connection: [Errno 11001] getaddrinfo failed')': /simple/sqrt/\n",
      "ERROR: Could not find a version that satisfies the requirement sqrt (from versions: none)\n",
      "ERROR: No matching distribution found for sqrt\n",
      "WARNING: You are using pip version 21.3.1; however, version 22.0.3 is available.\n",
      "You should consider upgrading via the 'C:\\Python\\Python310\\python.exe -m pip install --upgrade pip' command.\n"
     ]
    }
   ],
   "source": [
    "pip install sqrt"
   ]
  },
  {
   "cell_type": "code",
   "execution_count": 5,
   "id": "be695cc8",
   "metadata": {},
   "outputs": [
    {
     "name": "stdout",
     "output_type": "stream",
     "text": [
      "Note: you may need to restart the kernel to use updated packages.\n"
     ]
    },
    {
     "name": "stderr",
     "output_type": "stream",
     "text": [
      "WARNING: Retrying (Retry(total=4, connect=None, read=None, redirect=None, status=None)) after connection broken by 'NewConnectionError('<pip._vendor.urllib3.connection.HTTPSConnection object at 0x0000021AEE6F3790>: Failed to establish a new connection: [Errno 11001] getaddrinfo failed')': /simple/cov/\n",
      "WARNING: Retrying (Retry(total=3, connect=None, read=None, redirect=None, status=None)) after connection broken by 'NewConnectionError('<pip._vendor.urllib3.connection.HTTPSConnection object at 0x0000021AEE6F39A0>: Failed to establish a new connection: [Errno 11001] getaddrinfo failed')': /simple/cov/\n",
      "WARNING: Retrying (Retry(total=2, connect=None, read=None, redirect=None, status=None)) after connection broken by 'NewConnectionError('<pip._vendor.urllib3.connection.HTTPSConnection object at 0x0000021AEE6F3B50>: Failed to establish a new connection: [Errno 11001] getaddrinfo failed')': /simple/cov/\n",
      "WARNING: Retrying (Retry(total=1, connect=None, read=None, redirect=None, status=None)) after connection broken by 'NewConnectionError('<pip._vendor.urllib3.connection.HTTPSConnection object at 0x0000021AEE6F3D00>: Failed to establish a new connection: [Errno 11001] getaddrinfo failed')': /simple/cov/\n",
      "WARNING: Retrying (Retry(total=0, connect=None, read=None, redirect=None, status=None)) after connection broken by 'NewConnectionError('<pip._vendor.urllib3.connection.HTTPSConnection object at 0x0000021AEE6F3EB0>: Failed to establish a new connection: [Errno 11001] getaddrinfo failed')': /simple/cov/\n",
      "ERROR: Could not find a version that satisfies the requirement cov (from versions: none)\n",
      "ERROR: No matching distribution found for cov\n",
      "WARNING: You are using pip version 21.3.1; however, version 22.0.3 is available.\n",
      "You should consider upgrading via the 'C:\\Python\\Python310\\python.exe -m pip install --upgrade pip' command.\n"
     ]
    }
   ],
   "source": [
    "pip install cov"
   ]
  },
  {
   "cell_type": "code",
   "execution_count": 69,
   "id": "61bcca20",
   "metadata": {},
   "outputs": [
    {
     "name": "stdout",
     "output_type": "stream",
     "text": [
      "Requirement already satisfied: numpy in c:\\python\\python310\\lib\\site-packages (1.22.0)\n",
      "Note: you may need to restart the kernel to use updated packages.\n"
     ]
    },
    {
     "name": "stderr",
     "output_type": "stream",
     "text": [
      "WARNING: You are using pip version 21.3.1; however, version 22.0.3 is available.\n",
      "You should consider upgrading via the 'C:\\Python\\Python310\\python.exe -m pip install --upgrade pip' command.\n"
     ]
    }
   ],
   "source": [
    "pip install numpy"
   ]
  },
  {
   "cell_type": "markdown",
   "id": "421b08e9",
   "metadata": {},
   "source": [
    "# Step2: Import all the required Libraries"
   ]
  },
  {
   "cell_type": "code",
   "execution_count": 70,
   "id": "8fb61c7d",
   "metadata": {},
   "outputs": [],
   "source": [
    "import pandas as pd\n",
    "import numpy as np\n",
    "import matplotlib.pyplot as plt\n",
    "from sklearn import metrics\n",
    "from sklearn.metrics import mean_squared_error\n",
    "from sklearn import linear_model\n",
    "import numpy as np\n",
    "from math import sqrt"
   ]
  },
  {
   "cell_type": "markdown",
   "id": "93ae1648",
   "metadata": {},
   "source": [
    "# Step3: Read the data"
   ]
  },
  {
   "cell_type": "code",
   "execution_count": 7,
   "id": "a19abd49",
   "metadata": {},
   "outputs": [
    {
     "data": {
      "text/html": [
       "<div>\n",
       "<style scoped>\n",
       "    .dataframe tbody tr th:only-of-type {\n",
       "        vertical-align: middle;\n",
       "    }\n",
       "\n",
       "    .dataframe tbody tr th {\n",
       "        vertical-align: top;\n",
       "    }\n",
       "\n",
       "    .dataframe thead th {\n",
       "        text-align: right;\n",
       "    }\n",
       "</style>\n",
       "<table border=\"1\" class=\"dataframe\">\n",
       "  <thead>\n",
       "    <tr style=\"text-align: right;\">\n",
       "      <th></th>\n",
       "      <th>Hours</th>\n",
       "      <th>Scores</th>\n",
       "    </tr>\n",
       "  </thead>\n",
       "  <tbody>\n",
       "    <tr>\n",
       "      <th>0</th>\n",
       "      <td>2.5</td>\n",
       "      <td>21</td>\n",
       "    </tr>\n",
       "    <tr>\n",
       "      <th>1</th>\n",
       "      <td>5.1</td>\n",
       "      <td>47</td>\n",
       "    </tr>\n",
       "    <tr>\n",
       "      <th>2</th>\n",
       "      <td>3.2</td>\n",
       "      <td>27</td>\n",
       "    </tr>\n",
       "    <tr>\n",
       "      <th>3</th>\n",
       "      <td>8.5</td>\n",
       "      <td>75</td>\n",
       "    </tr>\n",
       "    <tr>\n",
       "      <th>4</th>\n",
       "      <td>3.5</td>\n",
       "      <td>30</td>\n",
       "    </tr>\n",
       "    <tr>\n",
       "      <th>5</th>\n",
       "      <td>1.5</td>\n",
       "      <td>20</td>\n",
       "    </tr>\n",
       "    <tr>\n",
       "      <th>6</th>\n",
       "      <td>9.2</td>\n",
       "      <td>88</td>\n",
       "    </tr>\n",
       "    <tr>\n",
       "      <th>7</th>\n",
       "      <td>5.5</td>\n",
       "      <td>60</td>\n",
       "    </tr>\n",
       "    <tr>\n",
       "      <th>8</th>\n",
       "      <td>8.3</td>\n",
       "      <td>81</td>\n",
       "    </tr>\n",
       "    <tr>\n",
       "      <th>9</th>\n",
       "      <td>2.7</td>\n",
       "      <td>25</td>\n",
       "    </tr>\n",
       "    <tr>\n",
       "      <th>10</th>\n",
       "      <td>7.7</td>\n",
       "      <td>85</td>\n",
       "    </tr>\n",
       "    <tr>\n",
       "      <th>11</th>\n",
       "      <td>5.9</td>\n",
       "      <td>62</td>\n",
       "    </tr>\n",
       "    <tr>\n",
       "      <th>12</th>\n",
       "      <td>4.5</td>\n",
       "      <td>41</td>\n",
       "    </tr>\n",
       "    <tr>\n",
       "      <th>13</th>\n",
       "      <td>3.3</td>\n",
       "      <td>42</td>\n",
       "    </tr>\n",
       "    <tr>\n",
       "      <th>14</th>\n",
       "      <td>1.1</td>\n",
       "      <td>17</td>\n",
       "    </tr>\n",
       "    <tr>\n",
       "      <th>15</th>\n",
       "      <td>8.9</td>\n",
       "      <td>95</td>\n",
       "    </tr>\n",
       "    <tr>\n",
       "      <th>16</th>\n",
       "      <td>2.5</td>\n",
       "      <td>30</td>\n",
       "    </tr>\n",
       "    <tr>\n",
       "      <th>17</th>\n",
       "      <td>1.9</td>\n",
       "      <td>24</td>\n",
       "    </tr>\n",
       "    <tr>\n",
       "      <th>18</th>\n",
       "      <td>6.1</td>\n",
       "      <td>67</td>\n",
       "    </tr>\n",
       "    <tr>\n",
       "      <th>19</th>\n",
       "      <td>7.4</td>\n",
       "      <td>69</td>\n",
       "    </tr>\n",
       "  </tbody>\n",
       "</table>\n",
       "</div>"
      ],
      "text/plain": [
       "    Hours  Scores\n",
       "0     2.5      21\n",
       "1     5.1      47\n",
       "2     3.2      27\n",
       "3     8.5      75\n",
       "4     3.5      30\n",
       "5     1.5      20\n",
       "6     9.2      88\n",
       "7     5.5      60\n",
       "8     8.3      81\n",
       "9     2.7      25\n",
       "10    7.7      85\n",
       "11    5.9      62\n",
       "12    4.5      41\n",
       "13    3.3      42\n",
       "14    1.1      17\n",
       "15    8.9      95\n",
       "16    2.5      30\n",
       "17    1.9      24\n",
       "18    6.1      67\n",
       "19    7.4      69"
      ]
     },
     "execution_count": 7,
     "metadata": {},
     "output_type": "execute_result"
    }
   ],
   "source": [
    "df=pd.read_csv(\"C:/Users/Dell/Desktop/sparkstudent.csv\")\n",
    " #displaying the top 20 values in the dataset\n",
    "df.head(20)"
   ]
  },
  {
   "cell_type": "code",
   "execution_count": 8,
   "id": "6eab31df",
   "metadata": {},
   "outputs": [
    {
     "data": {
      "text/html": [
       "<div>\n",
       "<style scoped>\n",
       "    .dataframe tbody tr th:only-of-type {\n",
       "        vertical-align: middle;\n",
       "    }\n",
       "\n",
       "    .dataframe tbody tr th {\n",
       "        vertical-align: top;\n",
       "    }\n",
       "\n",
       "    .dataframe thead th {\n",
       "        text-align: right;\n",
       "    }\n",
       "</style>\n",
       "<table border=\"1\" class=\"dataframe\">\n",
       "  <thead>\n",
       "    <tr style=\"text-align: right;\">\n",
       "      <th></th>\n",
       "      <th>Hours</th>\n",
       "      <th>Scores</th>\n",
       "    </tr>\n",
       "  </thead>\n",
       "  <tbody>\n",
       "    <tr>\n",
       "      <th>9</th>\n",
       "      <td>2.7</td>\n",
       "      <td>25</td>\n",
       "    </tr>\n",
       "    <tr>\n",
       "      <th>22</th>\n",
       "      <td>3.8</td>\n",
       "      <td>35</td>\n",
       "    </tr>\n",
       "    <tr>\n",
       "      <th>16</th>\n",
       "      <td>2.5</td>\n",
       "      <td>30</td>\n",
       "    </tr>\n",
       "    <tr>\n",
       "      <th>10</th>\n",
       "      <td>7.7</td>\n",
       "      <td>85</td>\n",
       "    </tr>\n",
       "    <tr>\n",
       "      <th>12</th>\n",
       "      <td>4.5</td>\n",
       "      <td>41</td>\n",
       "    </tr>\n",
       "  </tbody>\n",
       "</table>\n",
       "</div>"
      ],
      "text/plain": [
       "    Hours  Scores\n",
       "9     2.7      25\n",
       "22    3.8      35\n",
       "16    2.5      30\n",
       "10    7.7      85\n",
       "12    4.5      41"
      ]
     },
     "execution_count": 8,
     "metadata": {},
     "output_type": "execute_result"
    }
   ],
   "source": [
    "#For any 5 sample from data\n",
    "df.sample(5)"
   ]
  },
  {
   "cell_type": "markdown",
   "id": "91831e40",
   "metadata": {},
   "source": [
    "# Step4: Get the data knowledge "
   ]
  },
  {
   "cell_type": "code",
   "execution_count": 9,
   "id": "91decb66",
   "metadata": {},
   "outputs": [
    {
     "data": {
      "text/plain": [
       "(25, 2)"
      ]
     },
     "execution_count": 9,
     "metadata": {},
     "output_type": "execute_result"
    }
   ],
   "source": [
    "# For the Number of rows and columns in the dataset\n",
    "df.shape"
   ]
  },
  {
   "cell_type": "code",
   "execution_count": 10,
   "id": "af86c87c",
   "metadata": {},
   "outputs": [
    {
     "data": {
      "text/html": [
       "<div>\n",
       "<style scoped>\n",
       "    .dataframe tbody tr th:only-of-type {\n",
       "        vertical-align: middle;\n",
       "    }\n",
       "\n",
       "    .dataframe tbody tr th {\n",
       "        vertical-align: top;\n",
       "    }\n",
       "\n",
       "    .dataframe thead th {\n",
       "        text-align: right;\n",
       "    }\n",
       "</style>\n",
       "<table border=\"1\" class=\"dataframe\">\n",
       "  <thead>\n",
       "    <tr style=\"text-align: right;\">\n",
       "      <th></th>\n",
       "      <th>Hours</th>\n",
       "      <th>Scores</th>\n",
       "    </tr>\n",
       "  </thead>\n",
       "  <tbody>\n",
       "    <tr>\n",
       "      <th>count</th>\n",
       "      <td>25.000000</td>\n",
       "      <td>25.000000</td>\n",
       "    </tr>\n",
       "    <tr>\n",
       "      <th>mean</th>\n",
       "      <td>5.012000</td>\n",
       "      <td>51.480000</td>\n",
       "    </tr>\n",
       "    <tr>\n",
       "      <th>std</th>\n",
       "      <td>2.525094</td>\n",
       "      <td>25.286887</td>\n",
       "    </tr>\n",
       "    <tr>\n",
       "      <th>min</th>\n",
       "      <td>1.100000</td>\n",
       "      <td>17.000000</td>\n",
       "    </tr>\n",
       "    <tr>\n",
       "      <th>25%</th>\n",
       "      <td>2.700000</td>\n",
       "      <td>30.000000</td>\n",
       "    </tr>\n",
       "    <tr>\n",
       "      <th>50%</th>\n",
       "      <td>4.800000</td>\n",
       "      <td>47.000000</td>\n",
       "    </tr>\n",
       "    <tr>\n",
       "      <th>75%</th>\n",
       "      <td>7.400000</td>\n",
       "      <td>75.000000</td>\n",
       "    </tr>\n",
       "    <tr>\n",
       "      <th>max</th>\n",
       "      <td>9.200000</td>\n",
       "      <td>95.000000</td>\n",
       "    </tr>\n",
       "  </tbody>\n",
       "</table>\n",
       "</div>"
      ],
      "text/plain": [
       "           Hours     Scores\n",
       "count  25.000000  25.000000\n",
       "mean    5.012000  51.480000\n",
       "std     2.525094  25.286887\n",
       "min     1.100000  17.000000\n",
       "25%     2.700000  30.000000\n",
       "50%     4.800000  47.000000\n",
       "75%     7.400000  75.000000\n",
       "max     9.200000  95.000000"
      ]
     },
     "execution_count": 10,
     "metadata": {},
     "output_type": "execute_result"
    }
   ],
   "source": [
    "# Data overall description\n",
    "df.describe()"
   ]
  },
  {
   "cell_type": "code",
   "execution_count": 11,
   "id": "1d0e78df",
   "metadata": {},
   "outputs": [
    {
     "data": {
      "text/plain": [
       "Hours     0\n",
       "Scores    0\n",
       "dtype: int64"
      ]
     },
     "execution_count": 11,
     "metadata": {},
     "output_type": "execute_result"
    }
   ],
   "source": [
    "#Checking whether there are any missing values in our data\n",
    "df.isna().sum()"
   ]
  },
  {
   "cell_type": "markdown",
   "id": "b60f6ec4",
   "metadata": {},
   "source": [
    "# Step5: Analyzing the data fro better predition"
   ]
  },
  {
   "cell_type": "code",
   "execution_count": 12,
   "id": "ba2cb670",
   "metadata": {},
   "outputs": [
    {
     "data": {
      "text/html": [
       "<div>\n",
       "<style scoped>\n",
       "    .dataframe tbody tr th:only-of-type {\n",
       "        vertical-align: middle;\n",
       "    }\n",
       "\n",
       "    .dataframe tbody tr th {\n",
       "        vertical-align: top;\n",
       "    }\n",
       "\n",
       "    .dataframe thead th {\n",
       "        text-align: right;\n",
       "    }\n",
       "</style>\n",
       "<table border=\"1\" class=\"dataframe\">\n",
       "  <thead>\n",
       "    <tr style=\"text-align: right;\">\n",
       "      <th></th>\n",
       "      <th>Scores</th>\n",
       "    </tr>\n",
       "    <tr>\n",
       "      <th>Hours</th>\n",
       "      <th></th>\n",
       "    </tr>\n",
       "  </thead>\n",
       "  <tbody>\n",
       "    <tr>\n",
       "      <th>1.1</th>\n",
       "      <td>17.0</td>\n",
       "    </tr>\n",
       "    <tr>\n",
       "      <th>1.5</th>\n",
       "      <td>20.0</td>\n",
       "    </tr>\n",
       "    <tr>\n",
       "      <th>1.9</th>\n",
       "      <td>24.0</td>\n",
       "    </tr>\n",
       "    <tr>\n",
       "      <th>2.5</th>\n",
       "      <td>25.5</td>\n",
       "    </tr>\n",
       "    <tr>\n",
       "      <th>2.7</th>\n",
       "      <td>27.5</td>\n",
       "    </tr>\n",
       "    <tr>\n",
       "      <th>3.2</th>\n",
       "      <td>27.0</td>\n",
       "    </tr>\n",
       "    <tr>\n",
       "      <th>3.3</th>\n",
       "      <td>42.0</td>\n",
       "    </tr>\n",
       "    <tr>\n",
       "      <th>3.5</th>\n",
       "      <td>30.0</td>\n",
       "    </tr>\n",
       "    <tr>\n",
       "      <th>3.8</th>\n",
       "      <td>35.0</td>\n",
       "    </tr>\n",
       "    <tr>\n",
       "      <th>4.5</th>\n",
       "      <td>41.0</td>\n",
       "    </tr>\n",
       "    <tr>\n",
       "      <th>4.8</th>\n",
       "      <td>54.0</td>\n",
       "    </tr>\n",
       "    <tr>\n",
       "      <th>5.1</th>\n",
       "      <td>47.0</td>\n",
       "    </tr>\n",
       "    <tr>\n",
       "      <th>5.5</th>\n",
       "      <td>60.0</td>\n",
       "    </tr>\n",
       "    <tr>\n",
       "      <th>5.9</th>\n",
       "      <td>62.0</td>\n",
       "    </tr>\n",
       "    <tr>\n",
       "      <th>6.1</th>\n",
       "      <td>67.0</td>\n",
       "    </tr>\n",
       "    <tr>\n",
       "      <th>6.9</th>\n",
       "      <td>76.0</td>\n",
       "    </tr>\n",
       "    <tr>\n",
       "      <th>7.4</th>\n",
       "      <td>69.0</td>\n",
       "    </tr>\n",
       "    <tr>\n",
       "      <th>7.7</th>\n",
       "      <td>85.0</td>\n",
       "    </tr>\n",
       "    <tr>\n",
       "      <th>7.8</th>\n",
       "      <td>86.0</td>\n",
       "    </tr>\n",
       "    <tr>\n",
       "      <th>8.3</th>\n",
       "      <td>81.0</td>\n",
       "    </tr>\n",
       "    <tr>\n",
       "      <th>8.5</th>\n",
       "      <td>75.0</td>\n",
       "    </tr>\n",
       "    <tr>\n",
       "      <th>8.9</th>\n",
       "      <td>95.0</td>\n",
       "    </tr>\n",
       "    <tr>\n",
       "      <th>9.2</th>\n",
       "      <td>88.0</td>\n",
       "    </tr>\n",
       "  </tbody>\n",
       "</table>\n",
       "</div>"
      ],
      "text/plain": [
       "       Scores\n",
       "Hours        \n",
       "1.1      17.0\n",
       "1.5      20.0\n",
       "1.9      24.0\n",
       "2.5      25.5\n",
       "2.7      27.5\n",
       "3.2      27.0\n",
       "3.3      42.0\n",
       "3.5      30.0\n",
       "3.8      35.0\n",
       "4.5      41.0\n",
       "4.8      54.0\n",
       "5.1      47.0\n",
       "5.5      60.0\n",
       "5.9      62.0\n",
       "6.1      67.0\n",
       "6.9      76.0\n",
       "7.4      69.0\n",
       "7.7      85.0\n",
       "7.8      86.0\n",
       "8.3      81.0\n",
       "8.5      75.0\n",
       "8.9      95.0\n",
       "9.2      88.0"
      ]
     },
     "execution_count": 12,
     "metadata": {},
     "output_type": "execute_result"
    }
   ],
   "source": [
    "#for analyzing the scores with increasing noumber of study hours\n",
    "df.groupby(['Hours']).mean()"
   ]
  },
  {
   "cell_type": "code",
   "execution_count": 13,
   "id": "13d4a80b",
   "metadata": {},
   "outputs": [
    {
     "data": {
      "text/html": [
       "<div>\n",
       "<style scoped>\n",
       "    .dataframe tbody tr th:only-of-type {\n",
       "        vertical-align: middle;\n",
       "    }\n",
       "\n",
       "    .dataframe tbody tr th {\n",
       "        vertical-align: top;\n",
       "    }\n",
       "\n",
       "    .dataframe thead th {\n",
       "        text-align: right;\n",
       "    }\n",
       "</style>\n",
       "<table border=\"1\" class=\"dataframe\">\n",
       "  <thead>\n",
       "    <tr style=\"text-align: right;\">\n",
       "      <th></th>\n",
       "      <th>Hours</th>\n",
       "    </tr>\n",
       "    <tr>\n",
       "      <th>Scores</th>\n",
       "      <th></th>\n",
       "    </tr>\n",
       "  </thead>\n",
       "  <tbody>\n",
       "    <tr>\n",
       "      <th>17</th>\n",
       "      <td>1.1</td>\n",
       "    </tr>\n",
       "    <tr>\n",
       "      <th>20</th>\n",
       "      <td>1.5</td>\n",
       "    </tr>\n",
       "    <tr>\n",
       "      <th>21</th>\n",
       "      <td>2.5</td>\n",
       "    </tr>\n",
       "    <tr>\n",
       "      <th>24</th>\n",
       "      <td>1.9</td>\n",
       "    </tr>\n",
       "    <tr>\n",
       "      <th>25</th>\n",
       "      <td>2.7</td>\n",
       "    </tr>\n",
       "    <tr>\n",
       "      <th>27</th>\n",
       "      <td>3.2</td>\n",
       "    </tr>\n",
       "    <tr>\n",
       "      <th>30</th>\n",
       "      <td>2.9</td>\n",
       "    </tr>\n",
       "    <tr>\n",
       "      <th>35</th>\n",
       "      <td>3.8</td>\n",
       "    </tr>\n",
       "    <tr>\n",
       "      <th>41</th>\n",
       "      <td>4.5</td>\n",
       "    </tr>\n",
       "    <tr>\n",
       "      <th>42</th>\n",
       "      <td>3.3</td>\n",
       "    </tr>\n",
       "    <tr>\n",
       "      <th>47</th>\n",
       "      <td>5.1</td>\n",
       "    </tr>\n",
       "    <tr>\n",
       "      <th>54</th>\n",
       "      <td>4.8</td>\n",
       "    </tr>\n",
       "    <tr>\n",
       "      <th>60</th>\n",
       "      <td>5.5</td>\n",
       "    </tr>\n",
       "    <tr>\n",
       "      <th>62</th>\n",
       "      <td>5.9</td>\n",
       "    </tr>\n",
       "    <tr>\n",
       "      <th>67</th>\n",
       "      <td>6.1</td>\n",
       "    </tr>\n",
       "    <tr>\n",
       "      <th>69</th>\n",
       "      <td>7.4</td>\n",
       "    </tr>\n",
       "    <tr>\n",
       "      <th>75</th>\n",
       "      <td>8.5</td>\n",
       "    </tr>\n",
       "    <tr>\n",
       "      <th>76</th>\n",
       "      <td>6.9</td>\n",
       "    </tr>\n",
       "    <tr>\n",
       "      <th>81</th>\n",
       "      <td>8.3</td>\n",
       "    </tr>\n",
       "    <tr>\n",
       "      <th>85</th>\n",
       "      <td>7.7</td>\n",
       "    </tr>\n",
       "    <tr>\n",
       "      <th>86</th>\n",
       "      <td>7.8</td>\n",
       "    </tr>\n",
       "    <tr>\n",
       "      <th>88</th>\n",
       "      <td>9.2</td>\n",
       "    </tr>\n",
       "    <tr>\n",
       "      <th>95</th>\n",
       "      <td>8.9</td>\n",
       "    </tr>\n",
       "  </tbody>\n",
       "</table>\n",
       "</div>"
      ],
      "text/plain": [
       "        Hours\n",
       "Scores       \n",
       "17        1.1\n",
       "20        1.5\n",
       "21        2.5\n",
       "24        1.9\n",
       "25        2.7\n",
       "27        3.2\n",
       "30        2.9\n",
       "35        3.8\n",
       "41        4.5\n",
       "42        3.3\n",
       "47        5.1\n",
       "54        4.8\n",
       "60        5.5\n",
       "62        5.9\n",
       "67        6.1\n",
       "69        7.4\n",
       "75        8.5\n",
       "76        6.9\n",
       "81        8.3\n",
       "85        7.7\n",
       "86        7.8\n",
       "88        9.2\n",
       "95        8.9"
      ]
     },
     "execution_count": 13,
     "metadata": {},
     "output_type": "execute_result"
    }
   ],
   "source": [
    "#for analyzing the hours with increasing noumber of scores\n",
    "df.groupby(['Scores']).mean()"
   ]
  },
  {
   "cell_type": "markdown",
   "id": "3b01ef13",
   "metadata": {},
   "source": [
    "# Step 6: Visualizing the given Data"
   ]
  },
  {
   "cell_type": "code",
   "execution_count": 14,
   "id": "5bfb717e",
   "metadata": {},
   "outputs": [
    {
     "data": {
      "text/plain": [
       "Text(0, 0.5, 'Frequency ')"
      ]
     },
     "execution_count": 14,
     "metadata": {},
     "output_type": "execute_result"
    },
    {
     "data": {
      "image/png": "[encoded data removed]",
      "text/plain": [
       "<Figure size 720x504 with 1 Axes>"
      ]
     },
     "metadata": {},
     "output_type": "display_data"
    }
   ],
   "source": [
    "#Histogram of Hours\n",
    "plt.style.use('ggplot')\n",
    "\n",
    "df.Hours.plot(kind='hist', color='purple', edgecolor='black', figsize=(10,7))\n",
    "plt.title('Distribution of Study Hours', size=24)\n",
    "plt.xlabel('Study Hours ', size=18)\n",
    "plt.ylabel('Frequency ', size=18)\n"
   ]
  },
  {
   "cell_type": "code",
   "execution_count": 15,
   "id": "6b52a8b7",
   "metadata": {},
   "outputs": [
    {
     "data": {
      "text/plain": [
       "Text(0, 0.5, 'Frequency ')"
      ]
     },
     "execution_count": 15,
     "metadata": {},
     "output_type": "execute_result"
    },
    {
     "data": {
      "image/png": "[encoded data removed]",
      "text/plain": [
       "<Figure size 720x504 with 1 Axes>"
      ]
     },
     "metadata": {},
     "output_type": "display_data"
    }
   ],
   "source": [
    "#Histogram of Scores\n",
    "plt.style.use('ggplot')\n",
    "\n",
    "df.Scores.plot(kind='hist', color='purple', edgecolor='black', figsize=(10,7))\n",
    "plt.title('Distribution of Scores', size=24)\n",
    "plt.xlabel('Scores ', size=18)\n",
    "plt.ylabel('Frequency ', size=18)"
   ]
  },
  {
   "cell_type": "code",
   "execution_count": 16,
   "id": "c58f9b91",
   "metadata": {},
   "outputs": [
    {
     "data": {
      "image/png": "[encoded data removed]",
      "text/plain": [
       "<Figure size 432x288 with 1 Axes>"
      ]
     },
     "metadata": {},
     "output_type": "display_data"
    }
   ],
   "source": [
    "df.plot(x='Scores',y='Hours', style='*', color=\"g\")\n",
    "plt.xlabel(\"Scores Obtained\")\n",
    "plt.ylabel(\"Study Hours\")\n",
    "plt.title(\"Scores Obtained Vs Study Hours\")\n",
    "plt.show()"
   ]
  },
  {
   "cell_type": "markdown",
   "id": "49486353",
   "metadata": {},
   "source": [
    "# Step7:Split the Dataset into Training Set and Testing Set for Prediction"
   ]
  },
  {
   "cell_type": "code",
   "execution_count": 17,
   "id": "c3ab11e6",
   "metadata": {},
   "outputs": [],
   "source": [
    "hour=df.iloc[:, :1].values # for array of only Hours\n",
    "score=df.iloc[:, 1:].values # for array of only Scores"
   ]
  },
  {
   "cell_type": "code",
   "execution_count": 18,
   "id": "e34816ad",
   "metadata": {},
   "outputs": [
    {
     "data": {
      "text/plain": [
       "array([[2.5],\n",
       "       [5.1],\n",
       "       [3.2],\n",
       "       [8.5],\n",
       "       [3.5],\n",
       "       [1.5],\n",
       "       [9.2],\n",
       "       [5.5],\n",
       "       [8.3],\n",
       "       [2.7],\n",
       "       [7.7],\n",
       "       [5.9],\n",
       "       [4.5],\n",
       "       [3.3],\n",
       "       [1.1],\n",
       "       [8.9],\n",
       "       [2.5],\n",
       "       [1.9],\n",
       "       [6.1],\n",
       "       [7.4],\n",
       "       [2.7],\n",
       "       [4.8],\n",
       "       [3.8],\n",
       "       [6.9],\n",
       "       [7.8]])"
      ]
     },
     "execution_count": 18,
     "metadata": {},
     "output_type": "execute_result"
    }
   ],
   "source": [
    "hour"
   ]
  },
  {
   "cell_type": "code",
   "execution_count": 19,
   "id": "82196fe5",
   "metadata": {},
   "outputs": [
    {
     "data": {
      "text/plain": [
       "array([[21],\n",
       "       [47],\n",
       "       [27],\n",
       "       [75],\n",
       "       [30],\n",
       "       [20],\n",
       "       [88],\n",
       "       [60],\n",
       "       [81],\n",
       "       [25],\n",
       "       [85],\n",
       "       [62],\n",
       "       [41],\n",
       "       [42],\n",
       "       [17],\n",
       "       [95],\n",
       "       [30],\n",
       "       [24],\n",
       "       [67],\n",
       "       [69],\n",
       "       [30],\n",
       "       [54],\n",
       "       [35],\n",
       "       [76],\n",
       "       [86]], dtype=int64)"
      ]
     },
     "execution_count": 19,
     "metadata": {},
     "output_type": "execute_result"
    }
   ],
   "source": [
    "score"
   ]
  },
  {
   "cell_type": "code",
   "execution_count": 51,
   "id": "b3c3f668",
   "metadata": {},
   "outputs": [],
   "source": [
    "from sklearn.model_selection import train_test_split\n",
    "x_train,x_test,y_train,y_test = train_test_split(hour,score,train_size=0.70,test_size=0.30, random_state=0)"
   ]
  },
  {
   "cell_type": "code",
   "execution_count": 52,
   "id": "5d938cb9",
   "metadata": {},
   "outputs": [],
   "source": [
    "from sklearn.linear_model import LinearRegression\n",
    "model= LinearRegression()\n",
    "model.fit(x_train,y_train)\n",
    "y_predict=model.predict(x_train)"
   ]
  },
  {
   "cell_type": "code",
   "execution_count": null,
   "id": "ab71d863",
   "metadata": {},
   "outputs": [],
   "source": []
  },
  {
   "cell_type": "markdown",
   "id": "94d484b5",
   "metadata": {},
   "source": [
    "# Step8: Plotting Simple Linaer Regression Line with the given data"
   ]
  },
  {
   "cell_type": "code",
   "execution_count": 53,
   "id": "1fe605b9",
   "metadata": {},
   "outputs": [
    {
     "data": {
      "image/png": "[encoded data removed]",
      "text/plain": [
       "<Figure size 432x288 with 1 Axes>"
      ]
     },
     "metadata": {},
     "output_type": "display_data"
    }
   ],
   "source": [
    "line= model.coef_*hour + model.intercept_\n",
    "plt.scatter(hour,score)\n",
    "plt.plot(hour,line,color='b')\n",
    "plt.xlabel(\"Study Hours\")\n",
    "plt.ylabel(\"Scores obtained\")\n",
    "plt.title(\"Study Hours vs Scores Obtained\")\n",
    "plt.show()"
   ]
  },
  {
   "cell_type": "markdown",
   "id": "32364512",
   "metadata": {},
   "source": [
    "# Step9: Prediction of Scores based on Study hours"
   ]
  },
  {
   "cell_type": "code",
   "execution_count": 56,
   "id": "05bedc4a",
   "metadata": {},
   "outputs": [
    {
     "data": {
      "text/plain": [
       "array([[17.05366541],\n",
       "       [33.69422878],\n",
       "       [74.80620886],\n",
       "       [26.8422321 ],\n",
       "       [60.12335883],\n",
       "       [39.56736879],\n",
       "       [20.96909209],\n",
       "       [78.72163554]])"
      ]
     },
     "execution_count": 56,
     "metadata": {},
     "output_type": "execute_result"
    }
   ],
   "source": [
    "y_predict= model.predict(x_test)\n",
    "y_predict"
   ]
  },
  {
   "cell_type": "code",
   "execution_count": 57,
   "id": "eff07d43",
   "metadata": {},
   "outputs": [
    {
     "name": "stdout",
     "output_type": "stream",
     "text": [
      "Actual values: \n"
     ]
    },
    {
     "data": {
      "text/plain": [
       "array([[20],\n",
       "       [27],\n",
       "       [69],\n",
       "       [30],\n",
       "       [62],\n",
       "       [35],\n",
       "       [24],\n",
       "       [86]], dtype=int64)"
      ]
     },
     "execution_count": 57,
     "metadata": {},
     "output_type": "execute_result"
    }
   ],
   "source": [
    "#Actual values \n",
    "print(\"Actual values: \")\n",
    "y_test\n"
   ]
  },
  {
   "cell_type": "code",
   "execution_count": 58,
   "id": "4ee9d8b7",
   "metadata": {},
   "outputs": [
    {
     "name": "stdout",
     "output_type": "stream",
     "text": [
      "Prediction values: \n"
     ]
    },
    {
     "data": {
      "text/plain": [
       "array([[17.05366541],\n",
       "       [33.69422878],\n",
       "       [74.80620886],\n",
       "       [26.8422321 ],\n",
       "       [60.12335883],\n",
       "       [39.56736879],\n",
       "       [20.96909209],\n",
       "       [78.72163554]])"
      ]
     },
     "execution_count": 58,
     "metadata": {},
     "output_type": "execute_result"
    }
   ],
   "source": [
    "# predicted values \n",
    "print(\"Prediction values: \")\n",
    "y_predict"
   ]
  },
  {
   "cell_type": "code",
   "execution_count": 59,
   "id": "dbcc1e19",
   "metadata": {},
   "outputs": [
    {
     "data": {
      "text/html": [
       "<div>\n",
       "<style scoped>\n",
       "    .dataframe tbody tr th:only-of-type {\n",
       "        vertical-align: middle;\n",
       "    }\n",
       "\n",
       "    .dataframe tbody tr th {\n",
       "        vertical-align: top;\n",
       "    }\n",
       "\n",
       "    .dataframe thead th {\n",
       "        text-align: right;\n",
       "    }\n",
       "</style>\n",
       "<table border=\"1\" class=\"dataframe\">\n",
       "  <thead>\n",
       "    <tr style=\"text-align: right;\">\n",
       "      <th></th>\n",
       "      <th>Actual</th>\n",
       "      <th>Predicted</th>\n",
       "    </tr>\n",
       "  </thead>\n",
       "  <tbody>\n",
       "    <tr>\n",
       "      <th>0</th>\n",
       "      <td>[[20], [27], [69], [30], [62], [35], [24], [86]]</td>\n",
       "      <td>[[17.05366541246545], [33.69422877993883], [74...</td>\n",
       "    </tr>\n",
       "  </tbody>\n",
       "</table>\n",
       "</div>"
      ],
      "text/plain": [
       "                                             Actual  \\\n",
       "0  [[20], [27], [69], [30], [62], [35], [24], [86]]   \n",
       "\n",
       "                                           Predicted  \n",
       "0  [[17.05366541246545], [33.69422877993883], [74...  "
      ]
     },
     "execution_count": 59,
     "metadata": {},
     "output_type": "execute_result"
    }
   ],
   "source": [
    "#Comparing actual and predicted values\n",
    "df1= pd.DataFrame({'Actual':[y_test],'Predicted':[y_predict]})\n",
    "df1"
   ]
  },
  {
   "cell_type": "code",
   "execution_count": 60,
   "id": "d1664a7e",
   "metadata": {},
   "outputs": [
    {
     "name": "stdout",
     "output_type": "stream",
     "text": [
      "Score of a student for 9.25 study hours is  [[92.91505723]]\n"
     ]
    }
   ],
   "source": [
    "# Prediction of scores for 9.25 hours\n",
    "print(\"Score of a student for 9.25 study hours is \",model.predict([[9.25]]))"
   ]
  },
  {
   "cell_type": "markdown",
   "id": "a539aec8",
   "metadata": {},
   "source": [
    "# Step10: Accuracy of the Model"
   ]
  },
  {
   "cell_type": "code",
   "execution_count": 61,
   "id": "28e5d112",
   "metadata": {},
   "outputs": [
    {
     "name": "stdout",
     "output_type": "stream",
     "text": [
      "Mean Squared Error for the Model:  22.96509721270043\n",
      "Mean Absolute Error for the Model:  4.419727808027652\n"
     ]
    }
   ],
   "source": [
    "absolute_error=metrics.mean_absolute_error(y_test,y_predict)\n",
    "MeanSq_error=metrics.mean_squared_error(y_test,y_predict)\n",
    "print(\"Mean Squared Error for the Model: \",MeanSq_error )\n",
    "print(\"Mean Absolute Error for the Model: \",absolute_error )\n"
   ]
  },
  {
   "cell_type": "code",
   "execution_count": 62,
   "id": "c6952626",
   "metadata": {},
   "outputs": [
    {
     "name": "stdout",
     "output_type": "stream",
     "text": [
      "4.792191274636315\n"
     ]
    }
   ],
   "source": [
    "rms = sqrt(mean_squared_error(y_test,y_predict))\n",
    "print(rms)"
   ]
  },
  {
   "cell_type": "code",
   "execution_count": 76,
   "id": "5c2f829d",
   "metadata": {},
   "outputs": [
    {
     "data": {
      "text/plain": [
       "array([[ 171.125,  387.575,  220.15 ,  615.125,  245.125,  171.125,\n",
       "         728.9  ,  504.125,  672.475,  206.275,  715.025,  518.925,\n",
       "         337.625,  357.975,  147.075,  796.425,  254.375,  204.425,\n",
       "         563.325,  569.8  ,  252.525,  455.1  ,  288.6  ,  639.175,\n",
       "         723.35 ],\n",
       "       [ 387.575,  877.805,  498.61 , 1393.175,  555.175,  387.575,\n",
       "        1650.86 , 1141.775, 1523.065,  467.185, 1619.435, 1175.295,\n",
       "         764.675,  810.765,  333.105, 1803.795,  576.125,  462.995,\n",
       "        1275.855, 1290.52 ,  571.935, 1030.74 ,  653.64 , 1447.645,\n",
       "        1638.29 ],\n",
       "       [ 220.15 ,  498.61 ,  283.22 ,  791.35 ,  315.35 ,  220.15 ,\n",
       "         937.72 ,  648.55 ,  865.13 ,  265.37 ,  919.87 ,  667.59 ,\n",
       "         434.35 ,  460.53 ,  189.21 , 1024.59 ,  327.25 ,  262.99 ,\n",
       "         724.71 ,  733.04 ,  324.87 ,  585.48 ,  371.28 ,  822.29 ,\n",
       "         930.58 ],\n",
       "       [ 615.125, 1393.175,  791.35 , 2211.125,  881.125,  615.125,\n",
       "        2620.1  , 1812.125, 2417.275,  741.475, 2570.225, 1865.325,\n",
       "        1213.625, 1286.775,  528.675, 2862.825,  914.375,  734.825,\n",
       "        2024.925, 2048.2  ,  907.725, 1635.9  , 1037.4  , 2297.575,\n",
       "        2600.15 ],\n",
       "       [ 245.125,  555.175,  315.35 ,  881.125,  351.125,  245.125,\n",
       "        1044.1  ,  722.125,  963.275,  295.475, 1024.225,  743.325,\n",
       "         483.625,  512.775,  210.675, 1140.825,  364.375,  292.825,\n",
       "         806.925,  816.2  ,  361.725,  651.9  ,  413.4  ,  915.575,\n",
       "        1036.15 ],\n",
       "       [ 171.125,  387.575,  220.15 ,  615.125,  245.125,  171.125,\n",
       "         728.9  ,  504.125,  672.475,  206.275,  715.025,  518.925,\n",
       "         337.625,  357.975,  147.075,  796.425,  254.375,  204.425,\n",
       "         563.325,  569.8  ,  252.525,  455.1  ,  288.6  ,  639.175,\n",
       "         723.35 ],\n",
       "       [ 728.9  , 1650.86 ,  937.72 , 2620.1  , 1044.1  ,  728.9  ,\n",
       "        3104.72 , 2147.3  , 2864.38 ,  878.62 , 3045.62 , 2210.34 ,\n",
       "        1438.1  , 1524.78 ,  626.46 , 3392.34 , 1083.5  ,  870.74 ,\n",
       "        2399.46 , 2427.04 , 1075.62 , 1938.48 , 1229.28 , 2722.54 ,\n",
       "        3081.08 ],\n",
       "       [ 504.125, 1141.775,  648.55 , 1812.125,  722.125,  504.125,\n",
       "        2147.3  , 1485.125, 1981.075,  607.675, 2106.425, 1528.725,\n",
       "         994.625, 1054.575,  433.275, 2346.225,  749.375,  602.225,\n",
       "        1659.525, 1678.6  ,  743.925, 1340.7  ,  850.2  , 1882.975,\n",
       "        2130.95 ],\n",
       "       [ 672.475, 1523.065,  865.13 , 2417.275,  963.275,  672.475,\n",
       "        2864.38 , 1981.075, 2642.645,  810.605, 2809.855, 2039.235,\n",
       "        1326.775, 1406.745,  577.965, 3129.735,  999.625,  803.335,\n",
       "        2213.715, 2239.16 ,  992.355, 1788.42 , 1134.12 , 2511.785,\n",
       "        2842.57 ],\n",
       "       [ 206.275,  467.185,  265.37 ,  741.475,  295.475,  206.275,\n",
       "         878.62 ,  607.675,  810.605,  248.645,  861.895,  625.515,\n",
       "         406.975,  431.505,  177.285,  960.015,  306.625,  246.415,\n",
       "         679.035,  686.84 ,  304.395,  548.58 ,  347.88 ,  770.465,\n",
       "         871.93 ],\n",
       "       [ 715.025, 1619.435,  919.87 , 2570.225, 1024.225,  715.025,\n",
       "        3045.62 , 2106.425, 2809.855,  861.895, 2987.645, 2168.265,\n",
       "        1410.725, 1495.755,  614.535, 3327.765, 1062.875,  854.165,\n",
       "        2353.785, 2380.84 , 1055.145, 1901.58 , 1205.88 , 2670.715,\n",
       "        3022.43 ],\n",
       "       [ 518.925, 1175.295,  667.59 , 1865.325,  743.325,  518.925,\n",
       "        2210.34 , 1528.725, 2039.235,  625.515, 2168.265, 1573.605,\n",
       "        1023.825, 1085.535,  445.995, 2415.105,  771.375,  619.905,\n",
       "        1708.245, 1727.88 ,  765.765, 1380.06 ,  875.16 , 1938.255,\n",
       "        2193.51 ],\n",
       "       [ 337.625,  764.675,  434.35 , 1213.625,  483.625,  337.625,\n",
       "        1438.1  ,  994.625, 1326.775,  406.975, 1410.725, 1023.825,\n",
       "         666.125,  706.275,  290.175, 1571.325,  501.875,  403.325,\n",
       "        1111.425, 1124.2  ,  498.225,  897.9  ,  569.4  , 1261.075,\n",
       "        1427.15 ],\n",
       "       [ 357.975,  810.765,  460.53 , 1286.775,  512.775,  357.975,\n",
       "        1524.78 , 1054.575, 1406.745,  431.505, 1495.755, 1085.535,\n",
       "         706.275,  748.845,  307.665, 1666.035,  532.125,  427.635,\n",
       "        1178.415, 1191.96 ,  528.255,  952.02 ,  603.72 , 1337.085,\n",
       "        1513.17 ],\n",
       "       [ 147.075,  333.105,  189.21 ,  528.675,  210.675,  147.075,\n",
       "         626.46 ,  433.275,  577.965,  177.285,  614.535,  445.995,\n",
       "         290.175,  307.665,  126.405,  684.495,  218.625,  175.695,\n",
       "         484.155,  489.72 ,  217.035,  391.14 ,  248.04 ,  549.345,\n",
       "         621.69 ],\n",
       "       [ 796.425, 1803.795, 1024.59 , 2862.825, 1140.825,  796.425,\n",
       "        3392.34 , 2346.225, 3129.735,  960.015, 3327.765, 2415.105,\n",
       "        1571.325, 1666.035,  684.495, 3706.605, 1183.875,  951.405,\n",
       "        2621.745, 2651.88 , 1175.265, 2118.06 , 1343.16 , 2974.755,\n",
       "        3366.51 ],\n",
       "       [ 254.375,  576.125,  327.25 ,  914.375,  364.375,  254.375,\n",
       "        1083.5  ,  749.375,  999.625,  306.625, 1062.875,  771.375,\n",
       "         501.875,  532.125,  218.625, 1183.875,  378.125,  303.875,\n",
       "         837.375,  847.   ,  375.375,  676.5  ,  429.   ,  950.125,\n",
       "        1075.25 ],\n",
       "       [ 204.425,  462.995,  262.99 ,  734.825,  292.825,  204.425,\n",
       "         870.74 ,  602.225,  803.335,  246.415,  854.165,  619.905,\n",
       "         403.325,  427.635,  175.695,  951.405,  303.875,  244.205,\n",
       "         672.945,  680.68 ,  301.665,  543.66 ,  344.76 ,  763.555,\n",
       "         864.11 ],\n",
       "       [ 563.325, 1275.855,  724.71 , 2024.925,  806.925,  563.325,\n",
       "        2399.46 , 1659.525, 2213.715,  679.035, 2353.785, 1708.245,\n",
       "        1111.425, 1178.415,  484.155, 2621.745,  837.375,  672.945,\n",
       "        1854.405, 1875.72 ,  831.285, 1498.14 ,  950.04 , 2104.095,\n",
       "        2381.19 ],\n",
       "       [ 569.8  , 1290.52 ,  733.04 , 2048.2  ,  816.2  ,  569.8  ,\n",
       "        2427.04 , 1678.6  , 2239.16 ,  686.84 , 2380.84 , 1727.88 ,\n",
       "        1124.2  , 1191.96 ,  489.72 , 2651.88 ,  847.   ,  680.68 ,\n",
       "        1875.72 , 1897.28 ,  840.84 , 1515.36 ,  960.96 , 2128.28 ,\n",
       "        2408.56 ],\n",
       "       [ 252.525,  571.935,  324.87 ,  907.725,  361.725,  252.525,\n",
       "        1075.62 ,  743.925,  992.355,  304.395, 1055.145,  765.765,\n",
       "         498.225,  528.255,  217.035, 1175.265,  375.375,  301.665,\n",
       "         831.285,  840.84 ,  372.645,  671.58 ,  425.88 ,  943.215,\n",
       "        1067.43 ],\n",
       "       [ 455.1  , 1030.74 ,  585.48 , 1635.9  ,  651.9  ,  455.1  ,\n",
       "        1938.48 , 1340.7  , 1788.42 ,  548.58 , 1901.58 , 1380.06 ,\n",
       "         897.9  ,  952.02 ,  391.14 , 2118.06 ,  676.5  ,  543.66 ,\n",
       "        1498.14 , 1515.36 ,  671.58 , 1210.32 ,  767.52 , 1699.86 ,\n",
       "        1923.72 ],\n",
       "       [ 288.6  ,  653.64 ,  371.28 , 1037.4  ,  413.4  ,  288.6  ,\n",
       "        1229.28 ,  850.2  , 1134.12 ,  347.88 , 1205.88 ,  875.16 ,\n",
       "         569.4  ,  603.72 ,  248.04 , 1343.16 ,  429.   ,  344.76 ,\n",
       "         950.04 ,  960.96 ,  425.88 ,  767.52 ,  486.72 , 1077.96 ,\n",
       "        1219.92 ],\n",
       "       [ 639.175, 1447.645,  822.29 , 2297.575,  915.575,  639.175,\n",
       "        2722.54 , 1882.975, 2511.785,  770.465, 2670.715, 1938.255,\n",
       "        1261.075, 1337.085,  549.345, 2974.755,  950.125,  763.555,\n",
       "        2104.095, 2128.28 ,  943.215, 1699.86 , 1077.96 , 2387.405,\n",
       "        2701.81 ],\n",
       "       [ 723.35 , 1638.29 ,  930.58 , 2600.15 , 1036.15 ,  723.35 ,\n",
       "        3081.08 , 2130.95 , 2842.57 ,  871.93 , 3022.43 , 2193.51 ,\n",
       "        1427.15 , 1513.17 ,  621.69 , 3366.51 , 1075.25 ,  864.11 ,\n",
       "        2381.19 , 2408.56 , 1067.43 , 1923.72 , 1219.92 , 2701.81 ,\n",
       "        3057.62 ]])"
      ]
     },
     "execution_count": 76,
     "metadata": {},
     "output_type": "execute_result"
    }
   ],
   "source": [
    "np.cov(df)"
   ]
  },
  {
   "cell_type": "code",
   "execution_count": 67,
   "id": "f876ea66",
   "metadata": {},
   "outputs": [
    {
     "name": "stdout",
     "output_type": "stream",
     "text": [
      "[[9.77580339]]\n"
     ]
    }
   ],
   "source": [
    "\n",
    "regr = linear_model.LinearRegression()\n",
    "regr.fit(hour, score)\n",
    "\n",
    "print(regr.coef_)"
   ]
  },
  {
   "cell_type": "code",
   "execution_count": null,
   "id": "f2d381b2",
   "metadata": {},
   "outputs": [],
   "source": []
  }
 ],
 "metadata": {
  "kernelspec": {
   "display_name": "Python 3 (ipykernel)",
   "language": "python",
   "name": "python3"
  },
  "language_info": {
   "codemirror_mode": {
    "name": "ipython",
    "version": 3
   },
   "file_extension": ".py",
   "mimetype": "text/x-python",
   "name": "python",
   "nbconvert_exporter": "python",
   "pygments_lexer": "ipython3",
   "version": "3.10.1"
  }
 },
 "nbformat": 4,
 "nbformat_minor": 5
}
